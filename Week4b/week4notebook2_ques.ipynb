{
 "cells": [
  {
   "cell_type": "markdown",
   "metadata": {},
   "source": [
    "# Real Data"
   ]
  },
  {
   "cell_type": "markdown",
   "metadata": {},
   "source": [
    "Load the Housing_Price.csv and see the feature_discription.txt for more insight (However you don't need to remove any unneccesary feature just use encoding to convert the categorical features)"
   ]
  },
  {
   "cell_type": "code",
   "execution_count": 192,
   "metadata": {},
   "outputs": [],
   "source": [
    "import pandas as pd\n",
    "# load data\n",
    "dataset = pd.read_csv('files/Housing_Price.csv')"
   ]
  },
  {
   "cell_type": "markdown",
   "metadata": {},
   "source": [
    "which are categorical and which are numerical features?"
   ]
  },
  {
   "cell_type": "code",
   "execution_count": 238,
   "metadata": {},
   "outputs": [],
   "source": [
    "# you can print and analyse the data type to say about categorical features\n",
    "\n",
    "################# we can consider the features which are in strings to be categorical.\n",
    "################# When going through the feature_discription.txt, we can see that all of the features which\n",
    "################# aren't integers need to converted into numerical forms and all of them have features which arent\n",
    "################# correlated to each other hence categorical.\n",
    "categorical_features = [c for c in dataset.columns if dataset[c].dtypes == 'object']\n",
    "non_categorical_features = [c for c in dataset.columns if dataset[c].dtypes != 'object']"
   ]
  },
  {
   "cell_type": "markdown",
   "metadata": {},
   "source": [
    "Write a function for doing one hot encoding for all categorical features\n",
    "\n",
    "Hint: Use pandas.get_dummies"
   ]
  },
  {
   "cell_type": "code",
   "execution_count": 241,
   "metadata": {
    "tags": []
   },
   "outputs": [],
   "source": [
    "\n",
    "def onehot_encoding(df,columns):\n",
    "    '''\n",
    "    Takes the dataframe \n",
    "    columns which are corresponding to categorical features\n",
    "    '''\n",
    "    df = pd.get_dummies(df,prefix=columns,prefix_sep='_',columns=columns)\n",
    "    return df\n",
    "\n",
    "onehot_encoded_dataset = onehot_encoding(dataset , categorical_features)\n",
    "onehot_encoded_dataset = onehot_encoded_dataset.drop(columns = ['Id']) ########### This feature is unnecessary"
   ]
  },
  {
   "cell_type": "markdown",
   "metadata": {},
   "source": [
    "Seperate the Label from the data, here it is 'SalePrice'"
   ]
  },
  {
   "cell_type": "code",
   "execution_count": 242,
   "metadata": {},
   "outputs": [],
   "source": [
    "# Write your code here\n",
    "\n",
    "price = onehot_encoded_dataset['SalePrice']\n",
    "onehot_encoded_dataset = onehot_encoded_dataset.drop(columns = ['SalePrice'])"
   ]
  },
  {
   "cell_type": "code",
   "execution_count": 243,
   "metadata": {},
   "outputs": [
    {
     "data": {
      "text/html": [
       "<div>\n",
       "<style scoped>\n",
       "    .dataframe tbody tr th:only-of-type {\n",
       "        vertical-align: middle;\n",
       "    }\n",
       "\n",
       "    .dataframe tbody tr th {\n",
       "        vertical-align: top;\n",
       "    }\n",
       "\n",
       "    .dataframe thead th {\n",
       "        text-align: right;\n",
       "    }\n",
       "</style>\n",
       "<table border=\"1\" class=\"dataframe\">\n",
       "  <thead>\n",
       "    <tr style=\"text-align: right;\">\n",
       "      <th></th>\n",
       "      <th>MSSubClass</th>\n",
       "      <th>LotArea</th>\n",
       "      <th>OverallQual</th>\n",
       "      <th>OverallCond</th>\n",
       "      <th>YearBuilt</th>\n",
       "      <th>YearRemodAdd</th>\n",
       "      <th>BsmtFinSF1</th>\n",
       "      <th>BsmtFinSF2</th>\n",
       "      <th>BsmtUnfSF</th>\n",
       "      <th>TotalBsmtSF</th>\n",
       "      <th>...</th>\n",
       "      <th>HeatingQC_Po</th>\n",
       "      <th>HeatingQC_TA</th>\n",
       "      <th>LotShape_IR1</th>\n",
       "      <th>LotShape_IR2</th>\n",
       "      <th>LotShape_IR3</th>\n",
       "      <th>LotShape_Reg</th>\n",
       "      <th>LandContour_Bnk</th>\n",
       "      <th>LandContour_HLS</th>\n",
       "      <th>LandContour_Low</th>\n",
       "      <th>LandContour_Lvl</th>\n",
       "    </tr>\n",
       "  </thead>\n",
       "  <tbody>\n",
       "    <tr>\n",
       "      <th>0</th>\n",
       "      <td>60</td>\n",
       "      <td>8450</td>\n",
       "      <td>7</td>\n",
       "      <td>5</td>\n",
       "      <td>2003</td>\n",
       "      <td>2003</td>\n",
       "      <td>706</td>\n",
       "      <td>0</td>\n",
       "      <td>150</td>\n",
       "      <td>856</td>\n",
       "      <td>...</td>\n",
       "      <td>0</td>\n",
       "      <td>0</td>\n",
       "      <td>0</td>\n",
       "      <td>0</td>\n",
       "      <td>0</td>\n",
       "      <td>1</td>\n",
       "      <td>0</td>\n",
       "      <td>0</td>\n",
       "      <td>0</td>\n",
       "      <td>1</td>\n",
       "    </tr>\n",
       "    <tr>\n",
       "      <th>1</th>\n",
       "      <td>20</td>\n",
       "      <td>9600</td>\n",
       "      <td>6</td>\n",
       "      <td>8</td>\n",
       "      <td>1976</td>\n",
       "      <td>1976</td>\n",
       "      <td>978</td>\n",
       "      <td>0</td>\n",
       "      <td>284</td>\n",
       "      <td>1262</td>\n",
       "      <td>...</td>\n",
       "      <td>0</td>\n",
       "      <td>0</td>\n",
       "      <td>0</td>\n",
       "      <td>0</td>\n",
       "      <td>0</td>\n",
       "      <td>1</td>\n",
       "      <td>0</td>\n",
       "      <td>0</td>\n",
       "      <td>0</td>\n",
       "      <td>1</td>\n",
       "    </tr>\n",
       "    <tr>\n",
       "      <th>2</th>\n",
       "      <td>60</td>\n",
       "      <td>11250</td>\n",
       "      <td>7</td>\n",
       "      <td>5</td>\n",
       "      <td>2001</td>\n",
       "      <td>2002</td>\n",
       "      <td>486</td>\n",
       "      <td>0</td>\n",
       "      <td>434</td>\n",
       "      <td>920</td>\n",
       "      <td>...</td>\n",
       "      <td>0</td>\n",
       "      <td>0</td>\n",
       "      <td>1</td>\n",
       "      <td>0</td>\n",
       "      <td>0</td>\n",
       "      <td>0</td>\n",
       "      <td>0</td>\n",
       "      <td>0</td>\n",
       "      <td>0</td>\n",
       "      <td>1</td>\n",
       "    </tr>\n",
       "    <tr>\n",
       "      <th>3</th>\n",
       "      <td>70</td>\n",
       "      <td>9550</td>\n",
       "      <td>7</td>\n",
       "      <td>5</td>\n",
       "      <td>1915</td>\n",
       "      <td>1970</td>\n",
       "      <td>216</td>\n",
       "      <td>0</td>\n",
       "      <td>540</td>\n",
       "      <td>756</td>\n",
       "      <td>...</td>\n",
       "      <td>0</td>\n",
       "      <td>0</td>\n",
       "      <td>1</td>\n",
       "      <td>0</td>\n",
       "      <td>0</td>\n",
       "      <td>0</td>\n",
       "      <td>0</td>\n",
       "      <td>0</td>\n",
       "      <td>0</td>\n",
       "      <td>1</td>\n",
       "    </tr>\n",
       "    <tr>\n",
       "      <th>4</th>\n",
       "      <td>60</td>\n",
       "      <td>14260</td>\n",
       "      <td>8</td>\n",
       "      <td>5</td>\n",
       "      <td>2000</td>\n",
       "      <td>2000</td>\n",
       "      <td>655</td>\n",
       "      <td>0</td>\n",
       "      <td>490</td>\n",
       "      <td>1145</td>\n",
       "      <td>...</td>\n",
       "      <td>0</td>\n",
       "      <td>0</td>\n",
       "      <td>1</td>\n",
       "      <td>0</td>\n",
       "      <td>0</td>\n",
       "      <td>0</td>\n",
       "      <td>0</td>\n",
       "      <td>0</td>\n",
       "      <td>0</td>\n",
       "      <td>1</td>\n",
       "    </tr>\n",
       "  </tbody>\n",
       "</table>\n",
       "<p>5 rows × 67 columns</p>\n",
       "</div>"
      ],
      "text/plain": [
       "   MSSubClass  LotArea  OverallQual  OverallCond  YearBuilt  YearRemodAdd  \\\n",
       "0          60     8450            7            5       2003          2003   \n",
       "1          20     9600            6            8       1976          1976   \n",
       "2          60    11250            7            5       2001          2002   \n",
       "3          70     9550            7            5       1915          1970   \n",
       "4          60    14260            8            5       2000          2000   \n",
       "\n",
       "   BsmtFinSF1  BsmtFinSF2  BsmtUnfSF  TotalBsmtSF  ...  HeatingQC_Po  \\\n",
       "0         706           0        150          856  ...             0   \n",
       "1         978           0        284         1262  ...             0   \n",
       "2         486           0        434          920  ...             0   \n",
       "3         216           0        540          756  ...             0   \n",
       "4         655           0        490         1145  ...             0   \n",
       "\n",
       "   HeatingQC_TA  LotShape_IR1  LotShape_IR2  LotShape_IR3  LotShape_Reg  \\\n",
       "0             0             0             0             0             1   \n",
       "1             0             0             0             0             1   \n",
       "2             0             1             0             0             0   \n",
       "3             0             1             0             0             0   \n",
       "4             0             1             0             0             0   \n",
       "\n",
       "   LandContour_Bnk  LandContour_HLS  LandContour_Low  LandContour_Lvl  \n",
       "0                0                0                0                1  \n",
       "1                0                0                0                1  \n",
       "2                0                0                0                1  \n",
       "3                0                0                0                1  \n",
       "4                0                0                0                1  \n",
       "\n",
       "[5 rows x 67 columns]"
      ]
     },
     "execution_count": 243,
     "metadata": {},
     "output_type": "execute_result"
    }
   ],
   "source": [
    "# Visualize the changed dataframe\n",
    "onehot_encoded_dataset.head()"
   ]
  },
  {
   "cell_type": "markdown",
   "metadata": {},
   "source": [
    "Split train test split with random state 42, test size 0.2\n",
    "\n",
    "You can use sklearn module for this exercise"
   ]
  },
  {
   "cell_type": "code",
   "execution_count": 244,
   "metadata": {},
   "outputs": [],
   "source": [
    "# Split data here \n",
    "import numpy as np\n",
    "from sklearn.model_selection import train_test_split\n",
    "\n",
    "X_train , X_test , y_train , y_test = train_test_split(onehot_encoded_dataset,price , test_size = 0.2 , random_state = 42)\n",
    "\n",
    "X_train = np.array(X_train)\n",
    "y_train = np.array(y_train)\n",
    "\n",
    "X_test = np.array(X_test)\n",
    "y_test = np.array(y_test)"
   ]
  },
  {
   "cell_type": "code",
   "execution_count": 245,
   "metadata": {},
   "outputs": [],
   "source": [
    "# import your Libraries\n",
    "from sklearn.linear_model import Ridge\n",
    "from sklearn.linear_model import Lasso"
   ]
  },
  {
   "cell_type": "markdown",
   "metadata": {},
   "source": [
    "## Lasso Regression"
   ]
  },
  {
   "cell_type": "markdown",
   "metadata": {},
   "source": [
    "1. search for alphas in range of 0.1 to 1000 for Lasso rigression, choose the best which minimizes the mse \n",
    "2. Plot the alphas vs MSE  \n",
    "\n",
    "Hint:   \n",
    "- cross validation score gives accuracy not the error convert to error appropriately (otherwise choose lambda which maximizes the score)\n",
    "\n",
    "\n",
    "In the following cell, use training which was split earlier to cross validate (using cross_val_score) use cv = 5 (5 folds), then calculate the mean of the cross validation score for each alphas and plot $\\lambda$ vs cross_valiadtion_score  or cross_validation_error. If you choose the accuracy then choose the $\\lambda$ which maximizes the cross_val_score. \n",
    "\n",
    "For range of alphas use  alphas = np.logspace(-1, 3, 100)\n",
    "\n",
    "Finally find the $\\lambda$ which maximizes the score (or minimizes the error) (appropriate value of $\\lambda$ is enough just by seeing the graph)"
   ]
  },
  {
   "cell_type": "code",
   "execution_count": 217,
   "metadata": {},
   "outputs": [
    {
     "data": {
      "image/png": "[encoded data removed]",
      "text/plain": [
       "<Figure size 432x288 with 1 Axes>"
      ]
     },
     "metadata": {
      "needs_background": "light"
     },
     "output_type": "display_data"
    },
    {
     "name": "stdout",
     "output_type": "stream",
     "text": [
      "Max Validation score for lambda : 359.3813663804629\n"
     ]
    }
   ],
   "source": [
    "# write your code here and plot lambda vs cross validation score\n",
    "from sklearn.model_selection import cross_val_score\n",
    "import matplotlib.pyplot as plt\n",
    "\n",
    "alphas = np.logspace(-1,3,100)\n",
    "cross_val_scores_avg_list = []\n",
    "\n",
    "for a in alphas :\n",
    "    lasso_reg = Lasso(a , max_iter = 1e5)\n",
    "    score = cross_val_score(lasso_reg, X_train, y_train, cv=5)\n",
    "    cross_val_scores_avg_list.append(score.mean())\n",
    "plt.figure(0)\n",
    "plt.plot(np.linspace(-1,3,100),cross_val_scores_avg_list)\n",
    "plt.grid()\n",
    "plt.xlabel('Lambdas(Log scale)')\n",
    "plt.ylabel('Cross Validation Scores')\n",
    "plt.title('Cross Validation Scores vs Lambda for Lasso Regression')\n",
    "plt.show()\n",
    "\n",
    "opt_alpha_lasso = alphas[cross_val_scores_avg_list.index(max(cross_val_scores_avg_list))]\n",
    "print('Max Validation score for lambda :',alphas[cross_val_scores_avg_list.index(max(cross_val_scores_avg_list))])"
   ]
  },
  {
   "cell_type": "markdown",
   "metadata": {},
   "source": [
    "## Ridge Regression"
   ]
  },
  {
   "cell_type": "markdown",
   "metadata": {},
   "source": [
    "1. search for alphas in range of 0.1 to 100 for Ridge rigression, choose the best which minimizes the mse \n",
    "2. Plot the alphas vs MSE\n",
    "\n",
    "\n",
    "This similar to as explained for Lasso regression. Again plot $\\lambda$ vs accuracy (or error) \n",
    "\n",
    "For range of alphas use  alphas = np.logspace(-1, 2, 100)\n",
    "\n",
    "Finally find the $\\lambda$ which maximizes the score (or minimizes the error) (appropriate value of $\\lambda$ is enough just by seeing the graph)\n"
   ]
  },
  {
   "cell_type": "code",
   "execution_count": 213,
   "metadata": {},
   "outputs": [
    {
     "data": {
      "image/png": "[encoded data removed]",
      "text/plain": [
       "<Figure size 432x288 with 1 Axes>"
      ]
     },
     "metadata": {
      "needs_background": "light"
     },
     "output_type": "display_data"
    },
    {
     "name": "stdout",
     "output_type": "stream",
     "text": [
      "Max Validation score for lambda : 37.64935806792467\n"
     ]
    }
   ],
   "source": [
    "# write your code here and plot lambda vs cross validation score\n",
    "from sklearn.model_selection import cross_val_score\n",
    "import matplotlib.pyplot as plt\n",
    "\n",
    "alphas = np.logspace(-1,2,100)\n",
    "cross_val_scores_avg_list = []\n",
    "\n",
    "for a in alphas :\n",
    "    ridge_reg = Ridge(a , max_iter = 1e4)\n",
    "    #score = cross_val_score(ridge_reg, X_train, y_train, cv=5,scoring='neg_mean_squared_error')\n",
    "    score = cross_val_score(ridge_reg, X_train, y_train, cv=5)\n",
    "    cross_val_scores_avg_list.append(score.mean())\n",
    "\n",
    "plt.figure(0)\n",
    "plt.plot(np.linspace(-1,2,100),cross_val_scores_avg_list)\n",
    "plt.grid()\n",
    "plt.xlabel('Lambdas(Log scale)')\n",
    "plt.ylabel('Cross Validation Scores')\n",
    "plt.title('Cross Validation Scores vs Lambda for Ridge Regression')\n",
    "plt.show()\n",
    "\n",
    "opt_alpha_ridge = alphas[cross_val_scores_avg_list.index(max(cross_val_scores_avg_list))]\n",
    "print('Max Validation score for lambda :',alphas[cross_val_scores_avg_list.index(max(cross_val_scores_avg_list))])"
   ]
  },
  {
   "cell_type": "markdown",
   "metadata": {},
   "source": [
    "Now compare regularized models to linear Regression model\n",
    "\n",
    "In the following cell, calculate cross validation score using Linear Regression model"
   ]
  },
  {
   "cell_type": "code",
   "execution_count": 215,
   "metadata": {
    "tags": []
   },
   "outputs": [
    {
     "name": "stdout",
     "output_type": "stream",
     "text": [
      "score : 0.7319127091470774\n"
     ]
    }
   ],
   "source": [
    "# write your code here print cross validation score\n",
    "from sklearn.linear_model import LinearRegression\n",
    "\n",
    "linear_reg = LinearRegression()\n",
    "score = cross_val_score(linear_reg, X_train, y_train, cv=5)\n",
    "\n",
    "print('score :',score.mean())"
   ]
  },
  {
   "cell_type": "markdown",
   "metadata": {},
   "source": [
    "Now you have $\\lambda$ values for both ridge and lasso regression, predict the model on the test data you created earlier\n",
    "\n",
    "In the following cell use selected $\\lambda$ as the model parameter, predict on test data, compare among three models and report your findings. \n",
    "\n",
    "\n",
    "\n",
    "\n",
    "Finally use lasso regression to find the important features and write your observations and also what do you observe when you compare both coefficients of Ridge and Lasso ? Do you see any property of Lasso which is used?\n",
    " \n",
    "Hint: \n",
    "- Check weights corresponding to each features\n",
    "\n",
    "\n",
    "Note:\n",
    "- Don't worry if you have huge error in prediction, it is possible, just compare among models and report which has lease error.\n"
   ]
  },
  {
   "cell_type": "markdown",
   "metadata": {},
   "source": [
    "ANSWER\n",
    "\n",
    "Among the most important features are features such as the number of fireplaces, number of bedrooms and overall quality.\n",
    "\n",
    "When comparing both the coefficients of Lasso and Ridge Regression, we can see that the lasso regression has the ability to set the coefficients of features to zero unlike ridge which doesn't set them to zero. This aids the lasso regression in terms of feature selection.\n",
    "\n",
    "From the test errors, the order of MSE is as follows : MSE(ridge) < MSE(Lasso) < MSE(Linear)"
   ]
  },
  {
   "cell_type": "code",
   "execution_count": 218,
   "metadata": {
    "tags": []
   },
   "outputs": [
    {
     "name": "stdout",
     "output_type": "stream",
     "text": [
      "Lasso Test Error : 1379208206.3329406\n",
      "Ridge Test Error : 1360214643.7518377\n",
      "Linear Regression Test Error : 1380512172.4163766\n"
     ]
    }
   ],
   "source": [
    "# predict on test data which you  splitted earlier, print coefficients of the learned model, Mean square error. Report the model which gives the least MSE. Also commenton important features\n",
    "from sklearn.metrics import mean_squared_error\n",
    "\n",
    "lasso_reg_opt = Lasso(opt_alpha_lasso , max_iter = 1e5)\n",
    "lasso_reg_opt.fit(X_train , y_train)\n",
    "\n",
    "ridge_reg_opt = Ridge(opt_alpha_ridge , max_iter = 1e5)\n",
    "ridge_reg_opt.fit(X_train , y_train)\n",
    "\n",
    "linear_reg.fit(X_train,y_train)\n",
    "\n",
    "lasso_test_err = mean_squared_error(y_test , lasso_reg_opt.predict(X_test))\n",
    "ridge_test_err = mean_squared_error(y_test , ridge_reg_opt.predict(X_test))\n",
    "linear_test_err = mean_squared_error(y_test , linear_reg.predict(X_test))\n",
    "\n",
    "print('Lasso Test Error :',lasso_test_err)\n",
    "print('Ridge Test Error :',ridge_test_err)\n",
    "print('Linear Regression Test Error :',linear_test_err)"
   ]
  },
  {
   "cell_type": "code",
   "execution_count": 219,
   "metadata": {},
   "outputs": [
    {
     "name": "stdout",
     "output_type": "stream",
     "text": [
      "Lasso Weights : \n",
      "[-1.83777177e+02  3.95698859e-01  1.85009511e+04  3.43217883e+03\n",
      "  3.14327053e+02  1.73956347e+02  1.45482300e+01  0.00000000e+00\n",
      "  2.23326227e+00  1.70020848e+00  4.35343173e+01  4.19466518e+01\n",
      "  3.70975354e+01  5.61150530e+00  7.87748942e+03 -0.00000000e+00\n",
      "  0.00000000e+00 -0.00000000e+00 -6.81667527e+03 -0.00000000e+00\n",
      "  3.80973026e+03  3.75923910e+03  7.93763022e+03  1.14207061e+01\n",
      "  2.72326780e+01  3.22330337e-01  1.10217511e+01  3.89473057e+01\n",
      "  6.45238214e+01 -3.25712292e+01 -8.76763659e-01 -3.10411985e+02\n",
      " -2.06714361e+02 -0.00000000e+00  0.00000000e+00 -0.00000000e+00\n",
      " -0.00000000e+00  1.18964477e+04 -0.00000000e+00 -0.00000000e+00\n",
      " -0.00000000e+00  0.00000000e+00  0.00000000e+00  0.00000000e+00\n",
      "  0.00000000e+00 -0.00000000e+00  0.00000000e+00  0.00000000e+00\n",
      " -0.00000000e+00 -0.00000000e+00 -0.00000000e+00 -0.00000000e+00\n",
      "  0.00000000e+00 -0.00000000e+00  5.18667350e+03  0.00000000e+00\n",
      " -0.00000000e+00  0.00000000e+00 -0.00000000e+00  7.04616550e+01\n",
      "  1.59206710e+03 -0.00000000e+00 -6.69162537e+02 -5.10828864e+03\n",
      "  1.30703996e+04  0.00000000e+00 -0.00000000e+00]\n"
     ]
    }
   ],
   "source": [
    "print('Lasso Weights : ')\n",
    "print(lasso_reg_opt.coef_)"
   ]
  },
  {
   "cell_type": "code",
   "execution_count": 220,
   "metadata": {},
   "outputs": [
    {
     "name": "stdout",
     "output_type": "stream",
     "text": [
      "Ridge Weights : \n",
      "[-1.76219642e+02  3.60274788e-01  1.75400372e+04  4.23337272e+03\n",
      "  3.28783030e+02  1.58241795e+02  1.12499024e+01 -3.55298331e+00\n",
      " -1.03907744e+00  6.65784160e+00  1.35987756e+01  1.19590530e+01\n",
      "  8.27212845e+00  3.38299566e+01  8.32636725e+03 -1.65450854e+03\n",
      "  1.88515134e+03 -3.28487149e+01 -7.34984807e+03 -4.72545002e+03\n",
      "  4.54396068e+03  4.62349282e+03  8.09234815e+03  1.12224000e+01\n",
      "  2.56548657e+01 -2.63746179e+00  1.24623110e+01  3.65322201e+01\n",
      "  6.23365118e+01 -3.09084118e+01 -8.78972294e-01 -3.29345735e+02\n",
      " -4.45876052e+02 -1.11600124e+03  1.11600124e+03 -4.61033633e+02\n",
      " -2.75004776e+03  9.97782748e+03 -1.43609109e+03 -3.49796926e+03\n",
      " -2.85567807e+03  2.09836803e+02  7.20232437e+01  7.41132286e+02\n",
      "  1.70038274e+03 -1.18259280e+02  4.23184673e+03  9.38211403e+02\n",
      " -6.25810792e+03 -4.37993032e+02  5.70665641e+00 -6.17872939e+01\n",
      "  2.79421843e+03 -2.79421843e+03  4.30346784e+03  5.99261710e+02\n",
      " -2.75201485e+03 -1.06206427e+02 -2.04450828e+03  2.17431692e+03\n",
      "  7.06977499e+03 -9.23299208e+03 -1.10998300e+01 -9.45311229e+03\n",
      "  1.06157569e+04  1.98027546e+03 -3.14292008e+03]\n"
     ]
    }
   ],
   "source": [
    "print('Ridge Weights : ')\n",
    "print(ridge_reg_opt.coef_)"
   ]
  },
  {
   "cell_type": "code",
   "execution_count": 221,
   "metadata": {},
   "outputs": [
    {
     "name": "stdout",
     "output_type": "stream",
     "text": [
      "Linear Regression Weights : \n",
      "[-1.74568153e+02  4.62215679e-01  1.75946170e+04  4.49126494e+03\n",
      "  3.35758423e+02  1.38787487e+02  1.23820850e+01 -3.61886668e+00\n",
      " -1.35368709e+00  7.40953147e+00  1.48716788e+01  1.16551313e+01\n",
      "  8.86312893e+00  3.53899398e+01  8.70470243e+03 -3.59843191e+03\n",
      "  1.75539035e+03  2.52320829e+02 -8.30425435e+03 -1.11199949e+04\n",
      "  5.00594475e+03  3.90686194e+03  8.40979468e+03  8.96186607e+00\n",
      "  2.07183504e+01 -4.75805982e+00  1.23633377e+01  2.22391337e+01\n",
      "  5.69818720e+01 -2.52702996e+01 -4.32829883e-01 -2.86460251e+02\n",
      " -5.12612923e+02 -1.20147176e+04  1.20147176e+04 -2.13446314e+03\n",
      " -2.56925796e+03  1.03237522e+04 -1.23862111e+04  3.35670249e+03\n",
      " -1.43139957e+04  2.54456727e+03  3.52452977e+03  1.16543762e+04\n",
      "  5.40585187e+04  2.94019485e+03  1.47282368e+04  4.78407434e+04\n",
      " -1.26933264e+05 -7.61125397e+03  1.73266692e+04 -2.34984512e+03\n",
      "  5.08869102e+03 -5.08869102e+03  4.32838471e+03 -8.73584827e+02\n",
      " -3.75892452e+03  2.67682746e+03 -2.37270282e+03  1.34931023e+04\n",
      "  2.39980120e+04 -4.97555688e+04  1.22644546e+04 -1.72064513e+04\n",
      "  2.10259285e+04  2.25255434e+03 -6.07203150e+03]\n"
     ]
    }
   ],
   "source": [
    "print('Linear Regression Weights : ')\n",
    "print(linear_reg.coef_)"
   ]
  },
  {
   "cell_type": "code",
   "execution_count": 232,
   "metadata": {},
   "outputs": [],
   "source": [
    "coef_df = pd.DataFrame({'Coefficient':abs(lasso_reg_opt.coef_)},index = onehot_encoded_dataset.columns)"
   ]
  },
  {
   "cell_type": "code",
   "execution_count": 237,
   "metadata": {
    "scrolled": true
   },
   "outputs": [
    {
     "name": "stdout",
     "output_type": "stream",
     "text": [
      "Important Features are\n",
      "                  Coefficient\n",
      "Fireplaces        3759.239103\n",
      "TotRmsAbvGrd      3809.730262\n",
      "LandContour_Bnk   5108.288645\n",
      "HeatingQC_Ex      5186.673498\n",
      "BedroomAbvGr      6816.675271\n",
      "BsmtFullBath      7877.489419\n",
      "GarageCars        7937.630221\n",
      "Condition1_Norm  11896.447704\n",
      "LandContour_HLS  13070.399598\n",
      "OverallQual      18500.951101\n"
     ]
    }
   ],
   "source": [
    "print('Important Features are')\n",
    "print(coef_df.sort_values('Coefficient')[-10:])"
   ]
  },
  {
   "cell_type": "code",
   "execution_count": null,
   "metadata": {},
   "outputs": [],
   "source": []
  }
 ],
 "metadata": {
  "kernelspec": {
   "display_name": "Python 3",
   "language": "python",
   "name": "python3"
  },
  "language_info": {
   "codemirror_mode": {
    "name": "ipython",
    "version": 3
   },
   "file_extension": ".py",
   "mimetype": "text/x-python",
   "name": "python",
   "nbconvert_exporter": "python",
   "pygments_lexer": "ipython3",
   "version": "3.8.2"
  }
 },
 "nbformat": 4,
 "nbformat_minor": 2
}
