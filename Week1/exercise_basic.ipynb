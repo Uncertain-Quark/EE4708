{
 "cells": [
  {
   "cell_type": "markdown",
   "metadata": {},
   "source": [
    "1) Given the array split the array at the middle (if it is odd length consider next higher integer), add reverse the array.\n",
    "\n",
    "Ex:\n",
    "if input is [12,10,5,6,52,36] \n",
    "output should be [6,52,36,12,10,5]\n",
    "\n",
    "if input is  [12,10,5,6,52,36,34]\n",
    "output should be [6,52,36,34,12,10,5]"
   ]
  },
  {
   "cell_type": "code",
   "execution_count": 1,
   "metadata": {},
   "outputs": [],
   "source": [
    "import math\n",
    "import numpy as np\n",
    "# Complete this function to get the desired result\n",
    "\n",
    "def reverseatCenter(arr):\n",
    "    ################## the idea is to get the index of center followed by which we can index the numpy array\n",
    "    ################## and concatenate according to our needs\n",
    "    center = int(np.floor(arr.shape[0]/2))\n",
    "    arr2 = np.concatenate([arr[center:] , arr[:center]])\n",
    "    return arr2"
   ]
  },
  {
   "cell_type": "code",
   "execution_count": 2,
   "metadata": {},
   "outputs": [
    {
     "name": "stdout",
     "output_type": "stream",
     "text": [
      "Actual Array :  [12 10  5  6 52 36]\n",
      "Reversed Array at center :  [ 6 52 36 12 10  5]\n",
      "\n",
      "--------------------------------\n",
      "\n",
      "Actual Array :  [12 10  5  6 52 36 34]\n",
      "Reversed Array at center :  [ 6 52 36 34 12 10  5]\n",
      "\n",
      "--------------------------------\n",
      "\n",
      "Actual Array :  [-10   0   1  67  84 543  34  25   6   8  32]\n",
      "Reversed Array at center :  [543  34  25   6   8  32 -10   0   1  67  84]\n",
      "\n",
      "--------------------------------\n",
      "\n",
      "Actual Array :  [ 0  1  2  3  4  5  6  7  8  9 10 11 12 13 14 15 16 17 18 19]\n",
      "Reversed Array at center :  [10 11 12 13 14 15 16 17 18 19  0  1  2  3  4  5  6  7  8  9]\n",
      "\n",
      "--------------------------------\n",
      "\n"
     ]
    }
   ],
   "source": [
    "# Print wroking examples\n",
    "list_arr = []\n",
    "list_arr.append(np.array([12,10,5,6,52,36]))\n",
    "list_arr.append(np.array([12,10,5,6,52,36,34]))\n",
    "list_arr.append(np.array([-10,0,1,67,84,543,34,25,6,8,32]))\n",
    "list_arr.append(np.array([i for i in range(20)]))\n",
    "\n",
    "for arr in list_arr :\n",
    "    print('Actual Array : ',arr)\n",
    "    print('Reversed Array at center : ',reverseatCenter(arr))\n",
    "    print('\\n--------------------------------\\n')"
   ]
  },
  {
   "cell_type": "markdown",
   "metadata": {},
   "source": [
    "2) Given a list of numbers, return a list where all adjacent duplicate elements have been removed.\n",
    "\n",
    "Ex:\n",
    "\n",
    "2, 2, 2, 3, 2 returns 2, 3, 2."
   ]
  },
  {
   "cell_type": "code",
   "execution_count": 3,
   "metadata": {},
   "outputs": [],
   "source": [
    "# Complete the function to get the desired result\n",
    "import numpy as np\n",
    "\n",
    "########## the method is to create another array which is composed of numbers which do not repeat\n",
    "########## this is taken care using the temp variable which notes the previously occuring number\n",
    "def remove_adjacent(b):\n",
    "    temp = b[0]\n",
    "    arr_refined = [temp]\n",
    "    for i in range(b.shape[0]) :\n",
    "        if b[i] == temp : \n",
    "            continue\n",
    "        arr_refined.append(b[i])\n",
    "        temp = b[i]\n",
    "    return np.array(arr_refined)"
   ]
  },
  {
   "cell_type": "code",
   "execution_count": 6,
   "metadata": {},
   "outputs": [
    {
     "name": "stdout",
     "output_type": "stream",
     "text": [
      "Actual Array :  [2 2 2 3 2]\n",
      "Array with no consecutive number same :  [2 3 2]\n",
      "\n",
      "--------------------------------\n",
      "\n",
      "Actual Array :  [12 10  5  6 52 36 34 34 34 34 34]\n",
      "Array with no consecutive number same :  [12 10  5  6 52 36 34]\n",
      "\n",
      "--------------------------------\n",
      "\n",
      "Actual Array :  [-10 -10 -10   0   1  67  84]\n",
      "Array with no consecutive number same :  [-10   0   1  67  84]\n",
      "\n",
      "--------------------------------\n",
      "\n",
      "Actual Array :  [-10 -10 -10   0   1  67  67  67  67  67  85  85  67  67  84   1   1   1\n",
      "   1   1   1   1]\n",
      "Array with no consecutive number same :  [-10   0   1  67  85  67  84   1]\n",
      "\n",
      "--------------------------------\n",
      "\n",
      "Actual Array :  [ 0  1  2  3  4  5  6  7  8  9 10 11 12 13 14 15 16 17 18 19]\n",
      "Array with no consecutive number same :  [ 0  1  2  3  4  5  6  7  8  9 10 11 12 13 14 15 16 17 18 19]\n",
      "\n",
      "--------------------------------\n",
      "\n"
     ]
    }
   ],
   "source": [
    "# Print working examples\n",
    "list_arr = []\n",
    "list_arr.append(np.array([2,2,2,3,2]))\n",
    "list_arr.append(np.array([12,10,5,6,52,36,34,34,34,34,34]))\n",
    "list_arr.append(np.array([-10,-10,-10,0,1,67,84]))\n",
    "list_arr.append(np.array([-10,-10,-10,0,1,67,67,67,67,67,85,85,67,67,84,1,1,1,1,1,1,1]))\n",
    "list_arr.append(np.array([i for i in range(20)]))\n",
    "\n",
    "for arr in list_arr :\n",
    "    print('Actual Array : ',arr)\n",
    "    print('Array with no consecutive number same : ',remove_adjacent(arr))\n",
    "    print('\\n--------------------------------\\n')"
   ]
  },
  {
   "cell_type": "markdown",
   "metadata": {},
   "source": [
    "3) given matrix of 7x7 full of ones, create a square with given side length (center same as original square(7x7)) replace ones with zeors at the edges for example,\n",
    "\n"
   ]
  },
  {
   "cell_type": "markdown",
   "metadata": {},
   "source": [
    "$$\n",
    "\\begin{align}\n",
    "A = \\begin{bmatrix}\n",
    "1 & 1 & 1 & 1 & 1 & 1 & 1\\\\\n",
    "1 & 1 & 1 & 1 & 1 & 1 & 1\\\\\n",
    "1 & 1 & 1 & 1 & 1 & 1 & 1\\\\\n",
    "1 & 1 & 1 & 1 & 1 & 1 & 1\\\\\n",
    "1 & 1 & 1 & 1 & 1 & 1 & 1\\\\\n",
    "1 & 1 & 1 & 1 & 1 & 1 & 1\\\\\n",
    "1 & 1 & 1 & 1 & 1 & 1 & 1\\\\\n",
    "\\end{bmatrix}\n",
    "\\end{align}\n",
    "$$\n",
    "After modification\n",
    "$$\n",
    "\\begin{align}\n",
    "A = \\begin{bmatrix}\n",
    "1 & 1 & 1 & 1 & 1 & 1 & 1\\\\\n",
    "1 & 1 & 1 & 1 & 1 & 1 & 1\\\\\n",
    "1 & 1 & 0 & 0 & 0 & 1 & 1\\\\\n",
    "1 & 1 & 0 & 1 & 0 & 1 & 1\\\\\n",
    "1 & 1 & 0 & 0 & 0 & 1 & 1\\\\\n",
    "1 & 1 & 1 & 1 & 1 & 1 & 1\\\\\n",
    "1 & 1 & 1 & 1 & 1 & 1 & 1\\\\\n",
    "\\end{bmatrix}\n",
    "\\end{align}\n",
    "$$"
   ]
  },
  {
   "cell_type": "code",
   "execution_count": 36,
   "metadata": {},
   "outputs": [],
   "source": [
    "import numpy as np\n",
    "# write programm to get the desired result\n",
    "def transform(mat_2d , side_length) :\n",
    "    center = (int(np.ceil((mat_2d.shape[0]-1)/2)),int(np.ceil((mat_2d.shape[1]-1)/2)))\n",
    "    transformed_mat_2d = mat_2d.copy()\n",
    "    transformed_mat_2d[center[0]-int(np.floor(side_length/2)):center[0]+int(np.ceil(side_length/2)),center[1]-int(np.floor(side_length/2))] = 0\n",
    "    transformed_mat_2d[center[0]-int(np.floor(side_length/2)):center[0]+int(np.ceil(side_length/2)),center[1]+int(np.floor(side_length/2))] = 0\n",
    "    transformed_mat_2d[center[0]-int(np.floor(side_length/2)),center[0]-int(np.floor(side_length/2)):center[1]+int(np.ceil(side_length/2))] = 0\n",
    "    transformed_mat_2d[center[0]+int(np.floor(side_length/2)),center[0]-int(np.floor(side_length/2)):center[1]+int(np.ceil(side_length/2))] = 0\n",
    "    return transformed_mat_2d "
   ]
  },
  {
   "cell_type": "code",
   "execution_count": 37,
   "metadata": {},
   "outputs": [
    {
     "name": "stdout",
     "output_type": "stream",
     "text": [
      "The inner square with side length :  3\n",
      "[[1. 1. 1. 1. 1. 1. 1.]\n",
      " [1. 1. 1. 1. 1. 1. 1.]\n",
      " [1. 1. 0. 0. 0. 1. 1.]\n",
      " [1. 1. 0. 1. 0. 1. 1.]\n",
      " [1. 1. 0. 0. 0. 1. 1.]\n",
      " [1. 1. 1. 1. 1. 1. 1.]\n",
      " [1. 1. 1. 1. 1. 1. 1.]]\n",
      "\n",
      "-----------------------------------------\n",
      "\n",
      "The inner square with side length :  5\n",
      "[[1. 1. 1. 1. 1. 1. 1.]\n",
      " [1. 0. 0. 0. 0. 0. 1.]\n",
      " [1. 0. 1. 1. 1. 0. 1.]\n",
      " [1. 0. 1. 1. 1. 0. 1.]\n",
      " [1. 0. 1. 1. 1. 0. 1.]\n",
      " [1. 0. 0. 0. 0. 0. 1.]\n",
      " [1. 1. 1. 1. 1. 1. 1.]]\n",
      "\n",
      "-----------------------------------------\n",
      "\n",
      "The inner square with side length :  7\n",
      "[[0. 0. 0. 0. 0. 0. 0.]\n",
      " [0. 1. 1. 1. 1. 1. 0.]\n",
      " [0. 1. 1. 1. 1. 1. 0.]\n",
      " [0. 1. 1. 1. 1. 1. 0.]\n",
      " [0. 1. 1. 1. 1. 1. 0.]\n",
      " [0. 1. 1. 1. 1. 1. 0.]\n",
      " [0. 0. 0. 0. 0. 0. 0.]]\n",
      "\n",
      "-----------------------------------------\n",
      "\n"
     ]
    }
   ],
   "source": [
    "#Print working examples\n",
    "k = 7 ######### length of the 2D array\n",
    "mat_2d = np.ones((k,k))\n",
    "side_length = [i for i in range(3,k+1) if i%2==1] ####### the various possible inner squares we can draw on the matrix\n",
    "for i in side_length :\n",
    "    print('The inner square with side length : ',i)\n",
    "    print(transform(mat_2d,i))\n",
    "    print('\\n-----------------------------------------\\n')"
   ]
  },
  {
   "cell_type": "markdown",
   "metadata": {},
   "source": [
    "4) Paragraph present in data.txt is encoded such that each alphabet in word is incremented to next ascii value. Decode the paragraph present in the data_encoded.txt (Hint: decrease the ascii value of each character in the word)\n"
   ]
  },
  {
   "cell_type": "code",
   "execution_count": 7,
   "metadata": {},
   "outputs": [],
   "source": [
    "def sentence_decode(str):\n",
    "    # write the code here\n",
    "    dec_words = ''\n",
    "    \n",
    "    for i in str : \n",
    "########## We need to make sure that the spaces are left as such so that the decode is proper\n",
    "########## ascii value of ' ' is 32\n",
    "        if ord(i) != 32  : \n",
    "            dec_words = dec_words + chr(ord(i) - 1)\n",
    "        else : \n",
    "            dec_words = dec_words + i\n",
    "    return dec_words"
   ]
  },
  {
   "cell_type": "code",
   "execution_count": 8,
   "metadata": {
    "tags": []
   },
   "outputs": [
    {
     "name": "stdout",
     "output_type": "stream",
     "text": [
      "ebub bobmztjt jt b qspdftt pg jotqfdujoh- dmfbotjoh- usbotgpsnjoh boe npefmjoh ebub xjui uif hpbm pg ejtdpwfsjoh vtfgvm jogpsnbujpo- jogpsnjoh dpodmvtjpot boe tvqqpsujoh efdjtjpo.nbljoh/ ebub bobmztjt ibt nvmujqmf gbdfut boe bqqspbdift- fodpnqbttjoh ejwfstf ufdiojrvft voefs b wbsjfuz pg obnft- boe jt vtfe jo ejggfsfou cvtjoftt- tdjfodf- boe tpdjbm tdjfodf epnbjot/ jo upebz(t cvtjoftt xpsme- ebub bobmztjt qmbzt b spmf jo nbljoh efdjtjpot npsf tdjfoujgjd boe ifmqjoh cvtjofttft pqfsbuf npsf fggfdujwfmz/\n",
      " \n",
      "data analysis is a process of inspecting, cleansing, transforming and modeling data with the goal of discovering useful information, informing conclusions and supporting decision-making. data analysis has multiple facets and approaches, encompassing diverse techniques under a variety of names, and is used in different business, science, and social science domains. in today's business world, data analysis plays a role in making decisions more scientific and helping businesses operate more effectively.\n"
     ]
    }
   ],
   "source": [
    "with open (\"data_encoded.txt\", \"r\") as myfile:\n",
    "    data=myfile.read()\n",
    "    print(data)\n",
    "    print(\" \")\n",
    "    print(sentence_decode(data))\n",
    "decoded_text = sentence_decode(data)"
   ]
  },
  {
   "cell_type": "code",
   "execution_count": 9,
   "metadata": {},
   "outputs": [
    {
     "name": "stdout",
     "output_type": "stream",
     "text": [
      "data analysis is a process of inspecting, cleansing, transforming and modeling data with the goal of discovering useful information, informing conclusions and supporting decision-making. data analysis has multiple facets and approaches, encompassing diverse techniques under a variety of names, and is used in different business, science, and social science domains. in today's business world, data analysis plays a role in making decisions more scientific and helping businesses operate more effectively.\n"
     ]
    }
   ],
   "source": [
    "# Has to print the decoded paragraph.\n",
    "print(decoded_text)"
   ]
  },
  {
   "cell_type": "code",
   "execution_count": null,
   "metadata": {},
   "outputs": [],
   "source": []
  }
 ],
 "metadata": {
  "kernelspec": {
   "display_name": "Python 3",
   "language": "python",
   "name": "python3"
  },
  "language_info": {
   "codemirror_mode": {
    "name": "ipython",
    "version": 3
   },
   "file_extension": ".py",
   "mimetype": "text/x-python",
   "name": "python",
   "nbconvert_exporter": "python",
   "pygments_lexer": "ipython3",
   "version": "3.8.2"
  }
 },
 "nbformat": 4,
 "nbformat_minor": 2
}
